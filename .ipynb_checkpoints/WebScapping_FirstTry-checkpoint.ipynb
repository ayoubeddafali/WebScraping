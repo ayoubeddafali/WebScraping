{
 "cells": [
  {
   "cell_type": "markdown",
   "metadata": {},
   "source": [
    "## Imports "
   ]
  },
  {
   "cell_type": "code",
   "execution_count": 1,
   "metadata": {
    "collapsed": false
   },
   "outputs": [],
   "source": [
    "from bs4 import BeautifulSoup # for webscraping \n",
    "import requests # for making http requests\n",
    "\n",
    "from urllib import urlopen\n",
    "import pymysql.cursors\n",
    "\n"
   ]
  },
  {
   "cell_type": "code",
   "execution_count": 2,
   "metadata": {
    "collapsed": true
   },
   "outputs": [],
   "source": [
    "result = requests.get(\"https://fr.wikipedia.org/wiki/R%C3%A9gions_du_Maroc\")"
   ]
  },
  {
   "cell_type": "code",
   "execution_count": 3,
   "metadata": {
    "collapsed": true
   },
   "outputs": [],
   "source": [
    "c = result.content # get the content of the page "
   ]
  },
  {
   "cell_type": "code",
   "execution_count": 4,
   "metadata": {
    "collapsed": false
   },
   "outputs": [
    {
     "name": "stderr",
     "output_type": "stream",
     "text": [
      "/home/neo/anaconda2/lib/python2.7/site-packages/bs4/__init__.py:181: UserWarning: No parser was explicitly specified, so I'm using the best available HTML parser for this system (\"lxml\"). This usually isn't a problem, but if you run this code on another system, or in a different virtual environment, it may use a different parser and behave differently.\n",
      "\n",
      "The code that caused this warning is on line 174 of the file /home/neo/anaconda2/lib/python2.7/runpy.py. To get rid of this warning, change code that looks like this:\n",
      "\n",
      " BeautifulSoup([your markup])\n",
      "\n",
      "to this:\n",
      "\n",
      " BeautifulSoup([your markup], \"lxml\")\n",
      "\n",
      "  markup_type=markup_type))\n"
     ]
    }
   ],
   "source": [
    "soup = BeautifulSoup(c) # new instance of beautiful soup with the content of the page "
   ]
  },
  {
   "cell_type": "code",
   "execution_count": 5,
   "metadata": {
    "collapsed": true
   },
   "outputs": [],
   "source": [
    "data = [] "
   ]
  },
  {
   "cell_type": "code",
   "execution_count": 6,
   "metadata": {
    "collapsed": false
   },
   "outputs": [],
   "source": [
    "table = soup.find_all('table', { 'class': 'wikitable' })[1] # find all table tags in the page "
   ]
  },
  {
   "cell_type": "code",
   "execution_count": 7,
   "metadata": {
    "collapsed": false
   },
   "outputs": [],
   "source": [
    "\"\"\" This part is just a demo of how to  FIX the unicode problem, try to print e.text to see how it looks like  \"\"\" \n",
    "headers = table.find_all('th')\n",
    "th = []\n",
    "import unicodedata\n",
    "th = map(lambda e: unicodedata.normalize('NFKD', e.text).encode('ascii', 'ignore'), headers)"
   ]
  },
  {
   "cell_type": "code",
   "execution_count": 8,
   "metadata": {
    "collapsed": false
   },
   "outputs": [],
   "source": [
    "tds = [] \n",
    "regions = []\n",
    "tds = table.find_all('td')\n",
    "for td in tds  : \n",
    "    if td.has_attr(\"rowspan\"): \n",
    "        regions.append(unicodedata.normalize('NFKD',td.find('a').text).encode(\"ascii\", \"ignore\"))\n",
    "        "
   ]
  },
  {
   "cell_type": "code",
   "execution_count": 14,
   "metadata": {
    "collapsed": true
   },
   "outputs": [],
   "source": [
    "provinces = {}"
   ]
  },
  {
   "cell_type": "code",
   "execution_count": 15,
   "metadata": {
    "collapsed": false
   },
   "outputs": [
    {
     "data": {
      "text/plain": [
       "['Tanger-Tetouan-Al Hoceima',\n",
       " \"L'Oriental\",\n",
       " 'Fes-Meknes',\n",
       " 'Rabat-Sale-Kenitra',\n",
       " 'Beni Mellal-Khenifra',\n",
       " 'Casablanca-Settat',\n",
       " 'Marrakech-Safi',\n",
       " 'Draa-Tafilalet',\n",
       " 'Souss-Massa',\n",
       " 'Guelmim-Oued Noun',\n",
       " 'Laayoune-Sakia El Hamra',\n",
       " 'Dakhla-Oued Ed-Dahab']"
      ]
     },
     "execution_count": 15,
     "metadata": {},
     "output_type": "execute_result"
    }
   ],
   "source": [
    "regions "
   ]
  },
  {
   "cell_type": "code",
   "execution_count": 10,
   "metadata": {
    "collapsed": true
   },
   "outputs": [],
   "source": [
    "\"\"\"\n",
    "This is a bit tricky, I need to delete the first td, because if not, i would have an extra element in my provinces dict, \n",
    "with the key 1 and no value, because of the first condition ' td.has_attr('rowspan') ' below.\n",
    "There is always a better solution :)  .\n",
    "\"\"\"\n",
    "del tds[0]"
   ]
  },
  {
   "cell_type": "code",
   "execution_count": 17,
   "metadata": {
    "collapsed": false
   },
   "outputs": [
    {
     "data": {
      "text/plain": [
       "' \\nThe keys of provinces dict, are in this case the foreing key in the relationship with regions.\\n'"
      ]
     },
     "execution_count": 17,
     "metadata": {},
     "output_type": "execute_result"
    }
   ],
   "source": [
    "\"\"\" \n",
    " Here we're grouping all the provinces by the id of the region, which is in this case is the counter variable.\n",
    "\"\"\"\n",
    "counter = 1\n",
    "t = []\n",
    "for td in tds: \n",
    "    if ( td.has_attr('rowspan')  ): \n",
    "        provinces[counter] = t \n",
    "        counter += 1 \n",
    "        t = []\n",
    "    else : \n",
    "        t.append(unicodedata.normalize('NFKD', td.find('a').text).encode(\"ascii\", \"ignore\"))\n",
    "    provinces[counter] = t \n",
    "\"\"\" \n",
    "The keys of provinces dict, are in this case the foreing key in the relationship with regions.\n",
    "\"\"\""
   ]
  },
  {
   "cell_type": "code",
   "execution_count": 13,
   "metadata": {
    "collapsed": true
   },
   "outputs": [],
   "source": [
    "f = open(\"test\", \"a\")"
   ]
  },
  {
   "cell_type": "code",
   "execution_count": 18,
   "metadata": {
    "collapsed": false
   },
   "outputs": [
    {
     "data": {
      "text/plain": [
       "{1: ['Prefecture de Tanger-Assilah',\n",
       "  \"Prefecture de M'diq-Fnideq\",\n",
       "  'Province de Tetouan',\n",
       "  'Province de Fahs-Anjra',\n",
       "  'Province de Larache',\n",
       "  \"Province d'Al Hoceima\",\n",
       "  'Province de Chefchaouen',\n",
       "  'Province de Ouezzane'],\n",
       " 2: [\"Prefecture d'Oujda-Angad\",\n",
       "  'Province de Nador',\n",
       "  'Province de Driouch',\n",
       "  'Province de Jerada',\n",
       "  'Province de Berkane',\n",
       "  'Province de Taourirt',\n",
       "  'Province de Guercif',\n",
       "  'Province de Figuig'],\n",
       " 3: ['Prefecture de Fes',\n",
       "  'Prefecture de Meknes',\n",
       "  'Province de Taza',\n",
       "  'Province dEl Hajeb',\n",
       "  'Province dIfrane',\n",
       "  'Province de Moulay Yaacoub',\n",
       "  'Province de Sefrou',\n",
       "  'Province de Boulemane',\n",
       "  'Province de Taounate'],\n",
       " 4: ['Prefecture de Rabat',\n",
       "  'Prefecture de Sale',\n",
       "  'Prefecture de Skhirate-Temara',\n",
       "  'Province de Kenitra',\n",
       "  'Province de Khemisset',\n",
       "  'Province de Sidi Kacem',\n",
       "  'Province de Sidi Slimane'],\n",
       " 5: ['Province de Beni-Mellal',\n",
       "  \"Province d'Azilal\",\n",
       "  'Province de Fquih Ben Salah',\n",
       "  'Province de Khenifra',\n",
       "  'Province de Khouribga'],\n",
       " 6: ['Prefecture de Casablanca',\n",
       "  'Prefecture de Mohammedia',\n",
       "  \"Province d'El Jadida\",\n",
       "  'Province de Nouaceur',\n",
       "  'Province de Mediouna',\n",
       "  'Province de Benslimane',\n",
       "  'Province de Berrechid',\n",
       "  'Province de Settat',\n",
       "  'Province de Sidi Bennour'],\n",
       " 7: ['Prefecture de Marrakech',\n",
       "  'Province de Chichaoua',\n",
       "  \"Province d'Al Haouz\",\n",
       "  \"Province d'El Kelaa des Sraghna\",\n",
       "  \"Province d'Essaouira\",\n",
       "  'Province de Rehamna',\n",
       "  'Province de Safi',\n",
       "  'Province de Youssoufia'],\n",
       " 8: [\"Province d'Errachidia\",\n",
       "  'Province de Ouarzazate',\n",
       "  'Province de Midelt',\n",
       "  'Province de Tinghir',\n",
       "  'Province de Zagora'],\n",
       " 9: [\"Prefecture d'Agadir Ida-Outanane\",\n",
       "  \"Prefecture d'Inezgane-Ait Melloul\",\n",
       "  'Province de Chtouka-Ait Baha',\n",
       "  'Province de Taroudant',\n",
       "  'Province de Tiznit',\n",
       "  'Province de Tata'],\n",
       " 10: ['Province de Guelmim',\n",
       "  \"Province d'Assa-Zag\",\n",
       "  'Province de Tan-Tan',\n",
       "  'Province de Sidi Ifni'],\n",
       " 11: ['Province de Laayoune',\n",
       "  'Province de Boujdour',\n",
       "  'Province de Tarfaya',\n",
       "  \"Province d'Es-Semara\"],\n",
       " 12: [\"Province d'Oued Ed-Dahab\", \"Province d'Aousserd\"]}"
      ]
     },
     "execution_count": 18,
     "metadata": {},
     "output_type": "execute_result"
    }
   ],
   "source": [
    "provinces"
   ]
  },
  {
   "cell_type": "code",
   "execution_count": 19,
   "metadata": {
    "collapsed": false
   },
   "outputs": [
    {
     "name": "stdout",
     "output_type": "stream",
     "text": [
      "0 : Tanger-Tetouan-Al Hoceima\n",
      "1 : L'Oriental\n",
      "2 : Fes-Meknes\n",
      "3 : Rabat-Sale-Kenitra\n",
      "4 : Beni Mellal-Khenifra\n",
      "5 : Casablanca-Settat\n",
      "6 : Marrakech-Safi\n",
      "7 : Draa-Tafilalet\n",
      "8 : Souss-Massa\n",
      "9 : Guelmim-Oued Noun\n",
      "10 : Laayoune-Sakia El Hamra\n",
      "11 : Dakhla-Oued Ed-Dahab\n"
     ]
    }
   ],
   "source": [
    "for region_index, region_name  in enumerate(regions): \n",
    "    f.write(\"<optgroup label='{}'>\".format(region_name))\n",
    "    for province in provinces[region_index+1]:\n",
    "        f.write(\"<option value=''>{}</option>\".format(province)) \n",
    "    f.write(\"</optgroup>\")"
   ]
  },
  {
   "cell_type": "code",
   "execution_count": 22,
   "metadata": {
    "collapsed": true
   },
   "outputs": [],
   "source": [
    "\"\"\" \n",
    "Establish the connection with your database.\n",
    "You need to change the host, user, password, and the db variables in regard of your environnement.\n",
    "\"\"\"\n",
    "connection = pymysql.connect(host='localhost',\n",
    "                             user='ayoubensalem',\n",
    "                             password='19641995',\n",
    "                             db='tamkinedb',\n",
    "                             charset='utf8mb4',\n",
    "                             cursorclass=pymysql.cursors.DictCursor)"
   ]
  },
  {
   "cell_type": "code",
   "execution_count": 21,
   "metadata": {
    "collapsed": true
   },
   "outputs": [],
   "source": [
    "try:\n",
    "    with connection.cursor() as cursor:\n",
    "        for region in regions:\n",
    "            sql = \"INSERT INTO `regions` (`region`) VALUES (%s)\"\n",
    "            cursor.execute(sql, (region))\n",
    "    connection.commit()\n",
    "finally:\n",
    "    connection.close()"
   ]
  },
  {
   "cell_type": "code",
   "execution_count": 23,
   "metadata": {
    "collapsed": false
   },
   "outputs": [],
   "source": [
    "\"\"\" \n",
    "region is a foreign key that references Regions(id)\n",
    "\"\"\"\n",
    "try:\n",
    "    with connection.cursor() as cursor:\n",
    "        for k in provinces:\n",
    "            for p in provinces[k]: \n",
    "                sql = \"INSERT INTO `provinces` (`province`,`region_id`) VALUES (%s, %s)\"\n",
    "                cursor.execute(sql, (p,k))\n",
    "    connection.commit()\n",
    "finally:\n",
    "    connection.close()"
   ]
  }
 ],
 "metadata": {
  "anaconda-cloud": {},
  "kernelspec": {
   "display_name": "Python [default]",
   "language": "python",
   "name": "python2"
  },
  "language_info": {
   "codemirror_mode": {
    "name": "ipython",
    "version": 2
   },
   "file_extension": ".py",
   "mimetype": "text/x-python",
   "name": "python",
   "nbconvert_exporter": "python",
   "pygments_lexer": "ipython2",
   "version": "2.7.12"
  }
 },
 "nbformat": 4,
 "nbformat_minor": 1
}
