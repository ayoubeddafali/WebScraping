{
 "cells": [
  {
   "cell_type": "markdown",
   "metadata": {},
   "source": [
    "## Imports "
   ]
  },
  {
   "cell_type": "code",
   "execution_count": 134,
   "metadata": {
    "collapsed": false
   },
   "outputs": [],
   "source": [
    "from bs4 import BeautifulSoup # for webscraping \n",
    "import requests # for making http requests\n",
    "\n",
    "from urllib import urlopen\n",
    "import pymysql.cursors\n",
    "\n"
   ]
  },
  {
   "cell_type": "code",
   "execution_count": 135,
   "metadata": {
    "collapsed": true
   },
   "outputs": [],
   "source": [
    "result = requests.get(\"https://fr.wikipedia.org/wiki/R%C3%A9gions_du_Maroc\")"
   ]
  },
  {
   "cell_type": "code",
   "execution_count": 136,
   "metadata": {
    "collapsed": true
   },
   "outputs": [],
   "source": [
    "c = result.content # get the content of the page "
   ]
  },
  {
   "cell_type": "code",
   "execution_count": 137,
   "metadata": {
    "collapsed": false
   },
   "outputs": [],
   "source": [
    "soup = BeautifulSoup(c) # new instance of beautiful soup with the content of the page "
   ]
  },
  {
   "cell_type": "code",
   "execution_count": 138,
   "metadata": {
    "collapsed": true
   },
   "outputs": [],
   "source": [
    "data = [] "
   ]
  },
  {
   "cell_type": "code",
   "execution_count": 139,
   "metadata": {
    "collapsed": false
   },
   "outputs": [],
   "source": [
    "table = soup.find_all('table', { 'class': 'wikitable' })[1] # find all table tags in the page "
   ]
  },
  {
   "cell_type": "code",
   "execution_count": 140,
   "metadata": {
    "collapsed": false
   },
   "outputs": [],
   "source": [
    "\"\"\" This part is just a demo of how to  FIX the unicode problem, try to print e.text to see how it looks like  \"\"\" \n",
    "headers = table.find_all('th')\n",
    "th = []\n",
    "import unicodedata\n",
    "th = map(lambda e: unicodedata.normalize('NFKD', e.text).encode('ascii', 'ignore'), headers)"
   ]
  },
  {
   "cell_type": "code",
   "execution_count": 141,
   "metadata": {
    "collapsed": false
   },
   "outputs": [],
   "source": [
    "tds = [] \n",
    "regions = []\n",
    "tds = table.find_all('td')\n",
    "for td in tds  : \n",
    "    if td.has_attr(\"rowspan\"): \n",
    "        regions.append(unicodedata.normalize('NFKD',td.find('a').text).encode(\"ascii\", \"ignore\"))\n",
    "        "
   ]
  },
  {
   "cell_type": "code",
   "execution_count": 143,
   "metadata": {
    "collapsed": true
   },
   "outputs": [],
   "source": [
    "provinces = {}"
   ]
  },
  {
   "cell_type": "code",
   "execution_count": 145,
   "metadata": {
    "collapsed": true
   },
   "outputs": [],
   "source": [
    "\"\"\"\n",
    "This is a bit tricky, I need to delete the first td, because if not, i would have an extra element in my provinces dict, \n",
    "with the key 1 and no value, because of the first condition ' td.has_attr('rowspan') ' below.\n",
    "There is always a better solution :)  .\n",
    "\"\"\"\n",
    "del tds[0]"
   ]
  },
  {
   "cell_type": "code",
   "execution_count": 146,
   "metadata": {
    "collapsed": false
   },
   "outputs": [],
   "source": [
    "\"\"\" \n",
    " Here we're grouping all the provinces by the id of the region, which is in this case is the counter variable.\n",
    "\"\"\"\n",
    "counter = 1\n",
    "t = []\n",
    "for td in tds: \n",
    "    if ( td.has_attr('rowspan')  ): \n",
    "        provinces[counter] = t \n",
    "        counter += 1 \n",
    "        t = []\n",
    "    else : \n",
    "        t.append(unicodedata.normalize('NFKD', td.find('a').text).encode(\"ascii\", \"ignore\"))\n",
    "    provinces[counter] = t \n",
    "\"\"\" \n",
    "The keys of provinces dict, are in this case the foreing key in the relationship with regions.\n",
    "\"\"\""
   ]
  },
  {
   "cell_type": "code",
   "execution_count": 162,
   "metadata": {
    "collapsed": true
   },
   "outputs": [],
   "source": [
    "\"\"\" \n",
    "Establish the connection with your database.\n",
    "You need to change the host, user, password, and the db variables in regard of your environnement.\n",
    "\"\"\"\n",
    "connection = pymysql.connect(host='localhost',\n",
    "                             user='username',\n",
    "                             password='password',\n",
    "                             db='database_name',\n",
    "                             charset='utf8mb4',\n",
    "                             cursorclass=pymysql.cursors.DictCursor)"
   ]
  },
  {
   "cell_type": "code",
   "execution_count": 130,
   "metadata": {
    "collapsed": true
   },
   "outputs": [],
   "source": [
    "try:\n",
    "    with connection.cursor() as cursor:\n",
    "        for region in regions:\n",
    "            sql = \"INSERT INTO `regions` (`region`) VALUES (%s)\"\n",
    "            cursor.execute(sql, (region))\n",
    "    connection.commit()\n",
    "finally:\n",
    "    connection.close()"
   ]
  },
  {
   "cell_type": "code",
   "execution_count": null,
   "metadata": {
    "collapsed": true
   },
   "outputs": [],
   "source": [
    "\"\"\" \n",
    "region is a foreign key that references Regions(id)\n",
    "\"\"\"\n",
    "try:\n",
    "    with connection.cursor() as cursor:\n",
    "        for k in provinces:\n",
    "            for p in provinces[k]: \n",
    "                sql = \"INSERT INTO `provinces` (`province`,`region`) VALUES (%s, %s)\"\n",
    "                cursor.execute(sql, (p,k))\n",
    "    connection.commit()\n",
    "finally:\n",
    "    connection.close()"
   ]
  }
 ],
 "metadata": {
  "anaconda-cloud": {},
  "kernelspec": {
   "display_name": "Python [default]",
   "language": "python",
   "name": "python2"
  },
  "language_info": {
   "codemirror_mode": {
    "name": "ipython",
    "version": 2
   },
   "file_extension": ".py",
   "mimetype": "text/x-python",
   "name": "python",
   "nbconvert_exporter": "python",
   "pygments_lexer": "ipython2",
   "version": "2.7.12"
  }
 },
 "nbformat": 4,
 "nbformat_minor": 1
}
