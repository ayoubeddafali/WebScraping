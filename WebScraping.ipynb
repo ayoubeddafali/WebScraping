{
 "cells": [
  {
   "cell_type": "markdown",
   "metadata": {},
   "source": [
    "## Imports "
   ]
  },
  {
   "cell_type": "code",
   "execution_count": 1,
   "metadata": {
    "collapsed": false
   },
   "outputs": [],
   "source": [
    "from bs4 import BeautifulSoup # for webscraping \n",
    "import requests # for making http requests\n",
    "\n",
    "from urllib import urlopen\n",
    "import pymysql.cursors\n",
    "\n"
   ]
  },
  {
   "cell_type": "code",
   "execution_count": 3,
   "metadata": {
    "collapsed": true
   },
   "outputs": [],
   "source": [
    "result = requests.get(\"https://fr.wikipedia.org/wiki/R%C3%A9gions_du_Maroc\")"
   ]
  },
  {
   "cell_type": "code",
   "execution_count": 4,
   "metadata": {
    "collapsed": true
   },
   "outputs": [],
   "source": [
    "c = result.content # get the content of the page "
   ]
  },
  {
   "cell_type": "code",
   "execution_count": 5,
   "metadata": {
    "collapsed": false
   },
   "outputs": [
    {
     "name": "stderr",
     "output_type": "stream",
     "text": [
      "/home/neo/anaconda2/lib/python2.7/site-packages/bs4/__init__.py:181: UserWarning: No parser was explicitly specified, so I'm using the best available HTML parser for this system (\"lxml\"). This usually isn't a problem, but if you run this code on another system, or in a different virtual environment, it may use a different parser and behave differently.\n",
      "\n",
      "The code that caused this warning is on line 174 of the file /home/neo/anaconda2/lib/python2.7/runpy.py. To get rid of this warning, change code that looks like this:\n",
      "\n",
      " BeautifulSoup([your markup])\n",
      "\n",
      "to this:\n",
      "\n",
      " BeautifulSoup([your markup], \"lxml\")\n",
      "\n",
      "  markup_type=markup_type))\n"
     ]
    }
   ],
   "source": [
    "soup = BeautifulSoup(c) # new instance of beautiful soup with the content of the page "
   ]
  },
  {
   "cell_type": "code",
   "execution_count": 6,
   "metadata": {
    "collapsed": true
   },
   "outputs": [],
   "source": [
    "data = [] "
   ]
  },
  {
   "cell_type": "code",
   "execution_count": 8,
   "metadata": {
    "collapsed": false
   },
   "outputs": [],
   "source": [
    "table = soup.find_all('table', { 'class': 'wikitable' })[1] # find all table tags in the page "
   ]
  },
  {
   "cell_type": "code",
   "execution_count": 9,
   "metadata": {
    "collapsed": false
   },
   "outputs": [],
   "source": [
    "\"\"\" This part is just a demo of how to  FIX the unicode problem, try to print e.text to see how it looks like  \"\"\" \n",
    "headers = table.find_all('th')\n",
    "th = []\n",
    "import unicodedata\n",
    "th = map(lambda e: unicodedata.normalize('NFKD', e.text).encode('ascii', 'ignore'), headers)"
   ]
  },
  {
   "cell_type": "code",
   "execution_count": 10,
   "metadata": {
    "collapsed": false
   },
   "outputs": [],
   "source": [
    "tds = [] \n",
    "regions = []\n",
    "tds = table.find_all('td')\n",
    "for td in tds  : \n",
    "    if td.has_attr(\"rowspan\"): \n",
    "        regions.append(unicodedata.normalize('NFKD',td.find('a').text).encode(\"ascii\", \"ignore\"))\n",
    "        "
   ]
  },
  {
   "cell_type": "code",
   "execution_count": 11,
   "metadata": {
    "collapsed": true
   },
   "outputs": [],
   "source": [
    "provinces = {}"
   ]
  },
  {
   "cell_type": "code",
   "execution_count": 12,
   "metadata": {
    "collapsed": false
   },
   "outputs": [
    {
     "data": {
      "text/plain": [
       "['Tanger-Tetouan-Al Hoceima',\n",
       " \"L'Oriental\",\n",
       " 'Fes-Meknes',\n",
       " 'Rabat-Sale-Kenitra',\n",
       " 'Beni Mellal-Khenifra',\n",
       " 'Casablanca-Settat',\n",
       " 'Marrakech-Safi',\n",
       " 'Draa-Tafilalet',\n",
       " 'Souss-Massa',\n",
       " 'Guelmim-Oued Noun',\n",
       " 'Laayoune-Sakia El Hamra',\n",
       " 'Dakhla-Oued Ed-Dahab']"
      ]
     },
     "execution_count": 12,
     "metadata": {},
     "output_type": "execute_result"
    }
   ],
   "source": [
    "regions "
   ]
  },
  {
   "cell_type": "code",
   "execution_count": 11,
   "metadata": {
    "collapsed": true
   },
   "outputs": [],
   "source": [
    "\"\"\"\n",
    "This is a bit tricky, I need to delete the first td, because if not, i would have an extra element in my provinces dict, \n",
    "with the key 1 and no value, because of the first condition ' td.has_attr('rowspan') ' below.\n",
    "There is always a better solution :)  .\n",
    "\"\"\"\n",
    "del tds[0]"
   ]
  },
  {
   "cell_type": "code",
   "execution_count": 12,
   "metadata": {
    "collapsed": false
   },
   "outputs": [
    {
     "data": {
      "text/plain": [
       "' \\nThe keys of provinces dict, are in this case the foreing key in the relationship with regions.\\n'"
      ]
     },
     "execution_count": 12,
     "metadata": {},
     "output_type": "execute_result"
    }
   ],
   "source": [
    "\"\"\" \n",
    " Here we're grouping all the provinces by the id of the region, which is in this case is the counter variable.\n",
    "\"\"\"\n",
    "counter = 1\n",
    "t = []\n",
    "for td in tds: \n",
    "    if ( td.has_attr('rowspan')  ): \n",
    "        provinces[counter] = t \n",
    "        counter += 1 \n",
    "        t = []\n",
    "    else : \n",
    "        t.append(unicodedata.normalize('NFKD', td.find('a').text).encode(\"ascii\", \"ignore\"))\n",
    "    provinces[counter] = t \n",
    "\"\"\" \n",
    "The keys of provinces dict, are in this case the foreing key in the relationship with regions.\n",
    "\"\"\""
   ]
  },
  {
   "cell_type": "code",
   "execution_count": 16,
   "metadata": {
    "collapsed": true
   },
   "outputs": [],
   "source": [
    "f = open(\"regions\", \"a\")"
   ]
  },
  {
   "cell_type": "code",
   "execution_count": 17,
   "metadata": {
    "collapsed": false
   },
   "outputs": [],
   "source": [
    "\n",
    "for region_index, region_name in enumerate(regions): \n",
    "    f.write(\"{} \\n\".format(region_name)) \n",
    "f.close() "
   ]
  },
  {
   "cell_type": "code",
   "execution_count": 21,
   "metadata": {
    "collapsed": false
   },
   "outputs": [],
   "source": [
    "value = 3\n",
    "for region_index, region_name  in enumerate(regions): \n",
    "    f.write(\"<optgroup label=\\\"{}\\\"> \\n\".format(region_name))\n",
    "    value += 1\n",
    "    for province in provinces[region_index+1]:\n",
    "        f.write(\"\\t <option value=\\\"{}\\\">{}</option> \\n\".format(value, province)) \n",
    "        value += 1 \n",
    "    f.write(\"</optgroup> \\n\")\n",
    "f.close()"
   ]
  },
  {
   "cell_type": "code",
   "execution_count": 22,
   "metadata": {
    "collapsed": true
   },
   "outputs": [],
   "source": [
    "\"\"\" \n",
    "Establish the connection with your database.\n",
    "You need to change the host, user, password, and the db variables in regard of your environnement.\n",
    "\"\"\"\n",
    "connection = pymysql.connect(host='localhost',\n",
    "                             user='ayoubensalem',\n",
    "                             password='19641995',\n",
    "                             db='tamkinedb',\n",
    "                             charset='utf8mb4',\n",
    "                             cursorclass=pymysql.cursors.DictCursor)"
   ]
  },
  {
   "cell_type": "code",
   "execution_count": 21,
   "metadata": {
    "collapsed": true
   },
   "outputs": [],
   "source": [
    "try:\n",
    "    with connection.cursor() as cursor:\n",
    "        for region in regions:\n",
    "            sql = \"INSERT INTO `regions` (`region`) VALUES (%s)\"\n",
    "            cursor.execute(sql, (region))\n",
    "    connection.commit()\n",
    "finally:\n",
    "    connection.close()"
   ]
  },
  {
   "cell_type": "code",
   "execution_count": 23,
   "metadata": {
    "collapsed": false
   },
   "outputs": [],
   "source": [
    "\"\"\" \n",
    "region is a foreign key that references Regions(id)\n",
    "\"\"\"\n",
    "try:\n",
    "    with connection.cursor() as cursor:\n",
    "        for k in provinces:\n",
    "            for p in provinces[k]: \n",
    "                sql = \"INSERT INTO `provinces` (`province`,`region_id`) VALUES (%s, %s)\"\n",
    "                cursor.execute(sql, (p,k))\n",
    "    connection.commit()\n",
    "finally:\n",
    "    connection.close()"
   ]
  }
 ],
 "metadata": {
  "anaconda-cloud": {},
  "kernelspec": {
   "display_name": "Python [default]",
   "language": "python",
   "name": "python2"
  },
  "language_info": {
   "codemirror_mode": {
    "name": "ipython",
    "version": 2
   },
   "file_extension": ".py",
   "mimetype": "text/x-python",
   "name": "python",
   "nbconvert_exporter": "python",
   "pygments_lexer": "ipython2",
   "version": "2.7.12"
  }
 },
 "nbformat": 4,
 "nbformat_minor": 1
}
